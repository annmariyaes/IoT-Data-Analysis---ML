{
  "nbformat": 4,
  "nbformat_minor": 0,
  "metadata": {
    "colab": {
      "name": "DrivenData Competition with Keras.ipynb",
      "provenance": [],
      "collapsed_sections": [],
      "include_colab_link": true
    },
    "kernelspec": {
      "name": "python3",
      "display_name": "Python 3"
    }
  },
  "cells": [
    {
      "cell_type": "markdown",
      "metadata": {
        "id": "view-in-github",
        "colab_type": "text"
      },
      "source": [
        "<a href=\"https://colab.research.google.com/github/annmariyaes/IoT-Data-Analysis---ML/blob/main/DrivenData_Competition_with_Keras.ipynb\" target=\"_parent\"><img src=\"https://colab.research.google.com/assets/colab-badge.svg\" alt=\"Open In Colab\"/></a>"
      ]
    },
    {
      "cell_type": "code",
      "metadata": {
        "id": "XV_2tR8MsqQx"
      },
      "source": [
        "# first neural network with keras tutorial\n",
        "from numpy import loadtxt\n",
        "from keras.models import Sequential\n",
        "from keras.layers import Dense\n",
        "import pandas as pd"
      ],
      "execution_count": null,
      "outputs": []
    },
    {
      "cell_type": "code",
      "metadata": {
        "colab": {
          "resources": {
            "http://localhost:8080/nbextensions/google.colab/files.js": {
              "data": "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",
              "ok": true,
              "headers": [
                [
                  "content-type",
                  "application/javascript"
                ]
              ],
              "status": 200,
              "status_text": ""
            }
          },
          "base_uri": "https://localhost:8080/",
          "height": 73
        },
        "id": "HbgHwLcZCk7u",
        "outputId": "d8add977-c27c-4881-f0f3-6ad30ac8a42b"
      },
      "source": [
        "# load the dataset\n",
        "from google.colab import files \n",
        "uploaded = files.upload()"
      ],
      "execution_count": null,
      "outputs": [
        {
          "output_type": "display_data",
          "data": {
            "text/html": [
              "\n",
              "     <input type=\"file\" id=\"files-cf4f9247-9116-434c-b34c-a3c57277f3a2\" name=\"files[]\" multiple disabled\n",
              "        style=\"border:none\" />\n",
              "     <output id=\"result-cf4f9247-9116-434c-b34c-a3c57277f3a2\">\n",
              "      Upload widget is only available when the cell has been executed in the\n",
              "      current browser session. Please rerun this cell to enable.\n",
              "      </output>\n",
              "      <script src=\"/nbextensions/google.colab/files.js\"></script> "
            ],
            "text/plain": [
              "<IPython.core.display.HTML object>"
            ]
          },
          "metadata": {
            "tags": []
          }
        },
        {
          "output_type": "stream",
          "text": [
            "Saving transfusion.csv to transfusion.csv\n"
          ],
          "name": "stdout"
        }
      ]
    },
    {
      "cell_type": "code",
      "metadata": {
        "id": "g0RMIN4PCyCJ"
      },
      "source": [
        "import io \n",
        "dataset = pd.read_csv(io.BytesIO(uploaded['transfusion.csv']))"
      ],
      "execution_count": null,
      "outputs": []
    },
    {
      "cell_type": "code",
      "metadata": {
        "id": "QblDxUfZExx8",
        "colab": {
          "base_uri": "https://localhost:8080/",
          "height": 171
        },
        "outputId": "9bce6602-5d2f-4bc4-e4e8-c6db2fac03f4"
      },
      "source": [
        "dataset.head(4)"
      ],
      "execution_count": null,
      "outputs": [
        {
          "output_type": "execute_result",
          "data": {
            "text/html": [
              "<div>\n",
              "<style scoped>\n",
              "    .dataframe tbody tr th:only-of-type {\n",
              "        vertical-align: middle;\n",
              "    }\n",
              "\n",
              "    .dataframe tbody tr th {\n",
              "        vertical-align: top;\n",
              "    }\n",
              "\n",
              "    .dataframe thead th {\n",
              "        text-align: right;\n",
              "    }\n",
              "</style>\n",
              "<table border=\"1\" class=\"dataframe\">\n",
              "  <thead>\n",
              "    <tr style=\"text-align: right;\">\n",
              "      <th></th>\n",
              "      <th>Recency (months)</th>\n",
              "      <th>Frequency (times)</th>\n",
              "      <th>Monetary (c.c. blood)</th>\n",
              "      <th>Time (months)</th>\n",
              "      <th>whether he/she donated blood in March 2007</th>\n",
              "    </tr>\n",
              "  </thead>\n",
              "  <tbody>\n",
              "    <tr>\n",
              "      <th>0</th>\n",
              "      <td>2</td>\n",
              "      <td>50</td>\n",
              "      <td>12500</td>\n",
              "      <td>98</td>\n",
              "      <td>1</td>\n",
              "    </tr>\n",
              "    <tr>\n",
              "      <th>1</th>\n",
              "      <td>0</td>\n",
              "      <td>13</td>\n",
              "      <td>3250</td>\n",
              "      <td>28</td>\n",
              "      <td>1</td>\n",
              "    </tr>\n",
              "    <tr>\n",
              "      <th>2</th>\n",
              "      <td>1</td>\n",
              "      <td>16</td>\n",
              "      <td>4000</td>\n",
              "      <td>35</td>\n",
              "      <td>1</td>\n",
              "    </tr>\n",
              "    <tr>\n",
              "      <th>3</th>\n",
              "      <td>2</td>\n",
              "      <td>20</td>\n",
              "      <td>5000</td>\n",
              "      <td>45</td>\n",
              "      <td>1</td>\n",
              "    </tr>\n",
              "  </tbody>\n",
              "</table>\n",
              "</div>"
            ],
            "text/plain": [
              "   Recency (months)  ...  whether he/she donated blood in March 2007\n",
              "0                 2  ...                                           1\n",
              "1                 0  ...                                           1\n",
              "2                 1  ...                                           1\n",
              "3                 2  ...                                           1\n",
              "\n",
              "[4 rows x 5 columns]"
            ]
          },
          "metadata": {
            "tags": []
          },
          "execution_count": 4
        }
      ]
    },
    {
      "cell_type": "code",
      "metadata": {
        "id": "E8jsp6gfs9SV"
      },
      "source": [
        "# split into input (X) and output (y) variables\n",
        "X = dataset.iloc[:,0:4]\n",
        "y = dataset.iloc[:,4]"
      ],
      "execution_count": null,
      "outputs": []
    },
    {
      "cell_type": "code",
      "metadata": {
        "id": "BqMOMYOOtAIb"
      },
      "source": [
        "# define the keras model\n",
        "model = Sequential()\n",
        "\n",
        "#First Hidden Layer\n",
        "model.add(Dense(20, input_dim=4, activation='relu'))\n",
        "\n",
        "#Second  Hidden Layer\n",
        "model.add(Dense(15, activation='softmax'))\n",
        "\n",
        "#Third  Hidden Layer\n",
        "model.add(Dense(8, activation='tanh'))\n",
        "\n",
        "#Fourth  Hidden Layer\n",
        "model.add(Dense(5, activation='softsign'))\n",
        "\n",
        "#Output Layer\n",
        "model.add(Dense(1, activation='sigmoid'))"
      ],
      "execution_count": null,
      "outputs": []
    },
    {
      "cell_type": "code",
      "metadata": {
        "id": "n8xzLWYJPYHZ"
      },
      "source": [
        "# compile the keras model\n",
        "model.compile(loss='binary_crossentropy', optimizer='nadam', metrics=['accuracy'])"
      ],
      "execution_count": null,
      "outputs": []
    },
    {
      "cell_type": "code",
      "metadata": {
        "id": "2yxk-QtntHHd",
        "colab": {
          "base_uri": "https://localhost:8080/"
        },
        "outputId": "afe261a0-378a-4312-e5ec-856dbce0ffd6"
      },
      "source": [
        "# fit the keras model on the dataset\n",
        "model.fit(X, y, epochs=50, batch_size=10)"
      ],
      "execution_count": null,
      "outputs": [
        {
          "output_type": "stream",
          "text": [
            "Epoch 1/50\n",
            "75/75 [==============================] - 0s 1ms/step - loss: 0.6254 - accuracy: 0.7620\n",
            "Epoch 2/50\n",
            "75/75 [==============================] - 0s 1ms/step - loss: 0.5727 - accuracy: 0.7620\n",
            "Epoch 3/50\n",
            "75/75 [==============================] - 0s 1ms/step - loss: 0.5558 - accuracy: 0.7620\n",
            "Epoch 4/50\n",
            "75/75 [==============================] - 0s 1ms/step - loss: 0.5509 - accuracy: 0.7620\n",
            "Epoch 5/50\n",
            "75/75 [==============================] - 0s 1ms/step - loss: 0.5496 - accuracy: 0.7620\n",
            "Epoch 6/50\n",
            "75/75 [==============================] - 0s 1ms/step - loss: 0.5492 - accuracy: 0.7620\n",
            "Epoch 7/50\n",
            "75/75 [==============================] - 0s 1ms/step - loss: 0.5491 - accuracy: 0.7620\n",
            "Epoch 8/50\n",
            "75/75 [==============================] - 0s 1ms/step - loss: 0.5490 - accuracy: 0.7620\n",
            "Epoch 9/50\n",
            "75/75 [==============================] - 0s 1ms/step - loss: 0.5491 - accuracy: 0.7620\n",
            "Epoch 10/50\n",
            "75/75 [==============================] - 0s 1ms/step - loss: 0.5491 - accuracy: 0.7620\n",
            "Epoch 11/50\n",
            "75/75 [==============================] - 0s 1ms/step - loss: 0.5490 - accuracy: 0.7620\n",
            "Epoch 12/50\n",
            "75/75 [==============================] - 0s 1ms/step - loss: 0.5492 - accuracy: 0.7620\n",
            "Epoch 13/50\n",
            "75/75 [==============================] - 0s 1ms/step - loss: 0.5491 - accuracy: 0.7620\n",
            "Epoch 14/50\n",
            "75/75 [==============================] - 0s 1ms/step - loss: 0.5492 - accuracy: 0.7620\n",
            "Epoch 15/50\n",
            "75/75 [==============================] - 0s 1ms/step - loss: 0.5491 - accuracy: 0.7620\n",
            "Epoch 16/50\n",
            "75/75 [==============================] - 0s 1ms/step - loss: 0.5490 - accuracy: 0.7620\n",
            "Epoch 17/50\n",
            "75/75 [==============================] - 0s 1ms/step - loss: 0.5491 - accuracy: 0.7620\n",
            "Epoch 18/50\n",
            "75/75 [==============================] - 0s 1ms/step - loss: 0.5491 - accuracy: 0.7620\n",
            "Epoch 19/50\n",
            "75/75 [==============================] - 0s 1ms/step - loss: 0.5490 - accuracy: 0.7620\n",
            "Epoch 20/50\n",
            "75/75 [==============================] - 0s 1ms/step - loss: 0.5490 - accuracy: 0.7620\n",
            "Epoch 21/50\n",
            "75/75 [==============================] - 0s 1ms/step - loss: 0.5491 - accuracy: 0.7620\n",
            "Epoch 22/50\n",
            "75/75 [==============================] - 0s 1ms/step - loss: 0.5491 - accuracy: 0.7620\n",
            "Epoch 23/50\n",
            "75/75 [==============================] - 0s 1ms/step - loss: 0.5492 - accuracy: 0.7620\n",
            "Epoch 24/50\n",
            "75/75 [==============================] - 0s 1ms/step - loss: 0.5490 - accuracy: 0.7620\n",
            "Epoch 25/50\n",
            "75/75 [==============================] - 0s 1ms/step - loss: 0.5491 - accuracy: 0.7620\n",
            "Epoch 26/50\n",
            "75/75 [==============================] - 0s 1ms/step - loss: 0.5493 - accuracy: 0.7620\n",
            "Epoch 27/50\n",
            "75/75 [==============================] - 0s 1ms/step - loss: 0.5491 - accuracy: 0.7620\n",
            "Epoch 28/50\n",
            "75/75 [==============================] - 0s 1ms/step - loss: 0.5491 - accuracy: 0.7620\n",
            "Epoch 29/50\n",
            "75/75 [==============================] - 0s 1ms/step - loss: 0.5492 - accuracy: 0.7620\n",
            "Epoch 30/50\n",
            "75/75 [==============================] - 0s 1ms/step - loss: 0.5492 - accuracy: 0.7620\n",
            "Epoch 31/50\n",
            "75/75 [==============================] - 0s 1ms/step - loss: 0.5491 - accuracy: 0.7620\n",
            "Epoch 32/50\n",
            "75/75 [==============================] - 0s 1ms/step - loss: 0.5490 - accuracy: 0.7620\n",
            "Epoch 33/50\n",
            "75/75 [==============================] - 0s 1ms/step - loss: 0.5492 - accuracy: 0.7620\n",
            "Epoch 34/50\n",
            "75/75 [==============================] - 0s 1ms/step - loss: 0.5491 - accuracy: 0.7620\n",
            "Epoch 35/50\n",
            "75/75 [==============================] - 0s 1ms/step - loss: 0.5491 - accuracy: 0.7620\n",
            "Epoch 36/50\n",
            "75/75 [==============================] - 0s 1ms/step - loss: 0.5492 - accuracy: 0.7620\n",
            "Epoch 37/50\n",
            "75/75 [==============================] - 0s 1ms/step - loss: 0.5492 - accuracy: 0.7620\n",
            "Epoch 38/50\n",
            "75/75 [==============================] - 0s 1ms/step - loss: 0.5491 - accuracy: 0.7620\n",
            "Epoch 39/50\n",
            "75/75 [==============================] - 0s 1ms/step - loss: 0.5491 - accuracy: 0.7620\n",
            "Epoch 40/50\n",
            "75/75 [==============================] - 0s 1ms/step - loss: 0.5491 - accuracy: 0.7620\n",
            "Epoch 41/50\n",
            "75/75 [==============================] - 0s 1ms/step - loss: 0.5492 - accuracy: 0.7620\n",
            "Epoch 42/50\n",
            "75/75 [==============================] - 0s 1ms/step - loss: 0.5492 - accuracy: 0.7620\n",
            "Epoch 43/50\n",
            "75/75 [==============================] - 0s 1ms/step - loss: 0.5491 - accuracy: 0.7620\n",
            "Epoch 44/50\n",
            "75/75 [==============================] - 0s 1ms/step - loss: 0.5491 - accuracy: 0.7620\n",
            "Epoch 45/50\n",
            "75/75 [==============================] - 0s 1ms/step - loss: 0.5491 - accuracy: 0.7620\n",
            "Epoch 46/50\n",
            "75/75 [==============================] - 0s 1ms/step - loss: 0.5492 - accuracy: 0.7620\n",
            "Epoch 47/50\n",
            "75/75 [==============================] - 0s 1ms/step - loss: 0.5490 - accuracy: 0.7620\n",
            "Epoch 48/50\n",
            "75/75 [==============================] - 0s 1ms/step - loss: 0.5492 - accuracy: 0.7620\n",
            "Epoch 49/50\n",
            "75/75 [==============================] - 0s 1ms/step - loss: 0.5492 - accuracy: 0.7620\n",
            "Epoch 50/50\n",
            "75/75 [==============================] - 0s 1ms/step - loss: 0.5492 - accuracy: 0.7620\n"
          ],
          "name": "stdout"
        },
        {
          "output_type": "execute_result",
          "data": {
            "text/plain": [
              "<tensorflow.python.keras.callbacks.History at 0x7f2432000828>"
            ]
          },
          "metadata": {
            "tags": []
          },
          "execution_count": 8
        }
      ]
    },
    {
      "cell_type": "code",
      "metadata": {
        "id": "TFtKc7HatQU-",
        "colab": {
          "base_uri": "https://localhost:8080/"
        },
        "outputId": "27871741-178a-4795-a45f-7fbc0ba10b23"
      },
      "source": [
        "# evaluate the keras model\n",
        "_, accuracy = model.evaluate(X, y)\n",
        "print('Accuracy: %.2f' % (accuracy*100))"
      ],
      "execution_count": null,
      "outputs": [
        {
          "output_type": "stream",
          "text": [
            "24/24 [==============================] - 0s 899us/step - loss: 0.5487 - accuracy: 0.7620\n",
            "Accuracy: 76.20\n"
          ],
          "name": "stdout"
        }
      ]
    },
    {
      "cell_type": "code",
      "metadata": {
        "id": "rLeGIy57O0jf",
        "colab": {
          "base_uri": "https://localhost:8080/"
        },
        "outputId": "efda20c2-5243-4e98-f7f9-e472cfe7a37a"
      },
      "source": [
        "# make class predictions with the model\n",
        "predictions = model.predict_classes(X)"
      ],
      "execution_count": null,
      "outputs": [
        {
          "output_type": "stream",
          "text": [
            "WARNING:tensorflow:From <ipython-input-10-e5fbfa914ea8>:2: Sequential.predict_classes (from tensorflow.python.keras.engine.sequential) is deprecated and will be removed after 2021-01-01.\n",
            "Instructions for updating:\n",
            "Please use instead:* `np.argmax(model.predict(x), axis=-1)`,   if your model does multi-class classification   (e.g. if it uses a `softmax` last-layer activation).* `(model.predict(x) > 0.5).astype(\"int32\")`,   if your model does binary classification   (e.g. if it uses a `sigmoid` last-layer activation).\n"
          ],
          "name": "stdout"
        }
      ]
    },
    {
      "cell_type": "code",
      "metadata": {
        "colab": {
          "base_uri": "https://localhost:8080/"
        },
        "id": "GImC7AQAMHRX",
        "outputId": "a8288801-4f14-4482-854e-88e455bc3419"
      },
      "source": [
        "X.iloc[0].tolist()"
      ],
      "execution_count": null,
      "outputs": [
        {
          "output_type": "execute_result",
          "data": {
            "text/plain": [
              "[2, 50, 12500, 98]"
            ]
          },
          "metadata": {
            "tags": []
          },
          "execution_count": 11
        }
      ]
    },
    {
      "cell_type": "code",
      "metadata": {
        "id": "4XJd_ijGO2um",
        "colab": {
          "base_uri": "https://localhost:8080/"
        },
        "outputId": "03301567-c548-4c3e-a6d3-02cc02240635"
      },
      "source": [
        "# summarize the first 5 cases\n",
        "for i in range(10):\n",
        "\tprint('%s => %d (expected %d)' % (X.iloc[i].tolist(), predictions[i], y[i]))"
      ],
      "execution_count": null,
      "outputs": [
        {
          "output_type": "stream",
          "text": [
            "[2, 50, 12500, 98] => 0 (expected 1)\n",
            "[0, 13, 3250, 28] => 0 (expected 1)\n",
            "[1, 16, 4000, 35] => 0 (expected 1)\n",
            "[2, 20, 5000, 45] => 0 (expected 1)\n",
            "[1, 24, 6000, 77] => 0 (expected 0)\n",
            "[4, 4, 1000, 4] => 0 (expected 0)\n",
            "[2, 7, 1750, 14] => 0 (expected 1)\n",
            "[1, 12, 3000, 35] => 0 (expected 0)\n",
            "[2, 9, 2250, 22] => 0 (expected 1)\n",
            "[5, 46, 11500, 98] => 0 (expected 1)\n"
          ],
          "name": "stdout"
        }
      ]
    }
  ]
}